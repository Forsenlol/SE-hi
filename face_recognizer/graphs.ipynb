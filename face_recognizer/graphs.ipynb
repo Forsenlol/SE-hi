{
 "cells": [
  {
   "cell_type": "code",
   "execution_count": 159,
   "metadata": {},
   "outputs": [],
   "source": [
    "def graphs(user_answers = [2,3,4,5,1,3,4],\n",
    "            subjects = ['Матанализ', 'Линейка', 'Комбинаторика', 'Теорвер', 'Python', 'C++', 'Алгоритмы']):\n",
    "        \n",
    "    \"\"\"В функцию передавать количество правильных ответов и названия предметов сответственно\"\"\"\n",
    "\n",
    "    import matplotlib.pyplot as plt\n",
    "    import matplotlib as mp\n",
    "    import numpy as np \n",
    "    \n",
    "    number_of_questions = 5\n",
    "    \n",
    "    fig, ax = plt.subplots(figsize=(15,15))\n",
    "\n",
    "    # set width of bar\n",
    "    barWidth = 0.8\n",
    "\n",
    "    data_normalizer = mp.colors.Normalize()\n",
    "    color_map = mp.colors.LinearSegmentedColormap(\n",
    "        \"my_map\",\n",
    "        {\n",
    "            \"red\": [(0, 1.0, 1.0),\n",
    "                    (1.0, .5, .5)],\n",
    "            \"green\": [(0, 0.5, 0.5),\n",
    "                      (1.0, 0, 0)],\n",
    "            \"blue\": [(0, 0.50, 0.5),\n",
    "                     (1.0, 0.5, 0)]\n",
    "        }\n",
    "    )\n",
    "\n",
    "    # Plot a bar graph:\n",
    "    ax.bar(\n",
    "        subjects,\n",
    "        user_answers,\n",
    "        width = barWidth,\n",
    "        align=\"center\",\n",
    "        color=color_map(data_normalizer(user_answers))\n",
    "    )\n",
    "\n",
    "    ax.set_xticklabels(subjects, fontsize = 15)\n",
    "    ax.set_yticklabels(labels = list(range(number_of_questions + 1)), fontsize = 20)\n",
    "\n",
    "    ax.set_title(\"Ваши результаты\", fontsize = 20)\n",
    "    \n",
    "    \n",
    "    # СОХРАНЕНИЕ КАРТИНКИ\n",
    "    plt.savefig(\"user_test_results.jpg\", dpi = 300)"
   ]
  }
 ],
 "metadata": {
  "kernelspec": {
   "display_name": "Python 3",
   "language": "python",
   "name": "python3"
  },
  "language_info": {
   "codemirror_mode": {
    "name": "ipython",
    "version": 3
   },
   "file_extension": ".py",
   "mimetype": "text/x-python",
   "name": "python",
   "nbconvert_exporter": "python",
   "pygments_lexer": "ipython3",
   "version": "3.6.8"
  }
 },
 "nbformat": 4,
 "nbformat_minor": 2
}
