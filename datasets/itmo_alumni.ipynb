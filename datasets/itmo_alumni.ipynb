{
 "cells": [
  {
   "cell_type": "code",
   "execution_count": 1,
   "metadata": {},
   "outputs": [],
   "source": [
    "import requests\n",
    "from bs4 import BeautifulSoup\n",
    "import pandas as pd\n",
    "import os"
   ]
  },
  {
   "cell_type": "code",
   "execution_count": 19,
   "metadata": {},
   "outputs": [],
   "source": [
    "itmo_url = 'http://mse.itmo.ru/alumni'"
   ]
  },
  {
   "cell_type": "code",
   "execution_count": 20,
   "metadata": {},
   "outputs": [],
   "source": [
    "r = requests.get(itmo_url)\n",
    "soup = BeautifulSoup(r.text, 'html.parser')"
   ]
  },
  {
   "cell_type": "code",
   "execution_count": 34,
   "metadata": {},
   "outputs": [],
   "source": [
    "titles = []\n",
    "names = []\n",
    "images = []\n",
    "for title, name, image in zip(soup.find_all('div', {'class': 't214__descr t-text'}),\n",
    "               soup.find_all('div', {'class': 't214__title t-name t-name_sm'}),\n",
    "               soup.find_all('meta', {'itemprop':'image'})):\n",
    "\n",
    "    titles.append(title.text)\n",
    "    names.append(name.text)\n",
    "    images.append('http://mse.itmo.ru/' + image['content'])"
   ]
  },
  {
   "cell_type": "code",
   "execution_count": 38,
   "metadata": {},
   "outputs": [],
   "source": [
    "df = pd.DataFrame({'name': names, 'titles': titles, 'images': images})"
   ]
  },
  {
   "cell_type": "code",
   "execution_count": 37,
   "metadata": {},
   "outputs": [],
   "source": [
    "df.to_csv('itmo_students.csv')"
   ]
  },
  {
   "cell_type": "code",
   "execution_count": 39,
   "metadata": {},
   "outputs": [
    {
     "data": {
      "text/html": [
       "<div>\n",
       "<style scoped>\n",
       "    .dataframe tbody tr th:only-of-type {\n",
       "        vertical-align: middle;\n",
       "    }\n",
       "\n",
       "    .dataframe tbody tr th {\n",
       "        vertical-align: top;\n",
       "    }\n",
       "\n",
       "    .dataframe thead th {\n",
       "        text-align: right;\n",
       "    }\n",
       "</style>\n",
       "<table border=\"1\" class=\"dataframe\">\n",
       "  <thead>\n",
       "    <tr style=\"text-align: right;\">\n",
       "      <th></th>\n",
       "      <th>name</th>\n",
       "      <th>titles</th>\n",
       "      <th>images</th>\n",
       "    </tr>\n",
       "  </thead>\n",
       "  <tbody>\n",
       "    <tr>\n",
       "      <th>0</th>\n",
       "      <td>Роман Голышев</td>\n",
       "      <td>Тема диплома: \"Поддержка процедурных макросов ...</td>\n",
       "      <td>http://mse.itmo.ru/images/tild6339-6361-4437-b...</td>\n",
       "    </tr>\n",
       "    <tr>\n",
       "      <th>1</th>\n",
       "      <td>Валерия Горячева</td>\n",
       "      <td>Тема диплома: \"Разработка модуля выявления и о...</td>\n",
       "      <td>http://mse.itmo.ru/images/tild3235-6231-4137-a...</td>\n",
       "    </tr>\n",
       "    <tr>\n",
       "      <th>2</th>\n",
       "      <td>Антон Егоров</td>\n",
       "      <td>Тема диплома: \"Генерация подсказок поисковой с...</td>\n",
       "      <td>http://mse.itmo.ru/images/tild3539-3430-4535-b...</td>\n",
       "    </tr>\n",
       "    <tr>\n",
       "      <th>3</th>\n",
       "      <td>Алексей Зубаков</td>\n",
       "      <td>Тема диплома: \"Автоматическое построение платф...</td>\n",
       "      <td>http://mse.itmo.ru/images/tild3034-6132-4564-a...</td>\n",
       "    </tr>\n",
       "    <tr>\n",
       "      <th>4</th>\n",
       "      <td>Владислав Калинин</td>\n",
       "      <td>Тема диплома: \"GEO Data Server\" (руководитель ...</td>\n",
       "      <td>http://mse.itmo.ru/images/tild3033-3831-4533-b...</td>\n",
       "    </tr>\n",
       "  </tbody>\n",
       "</table>\n",
       "</div>"
      ],
      "text/plain": [
       "                name                                             titles  \\\n",
       "0      Роман Голышев  Тема диплома: \"Поддержка процедурных макросов ...   \n",
       "1   Валерия Горячева  Тема диплома: \"Разработка модуля выявления и о...   \n",
       "2       Антон Егоров  Тема диплома: \"Генерация подсказок поисковой с...   \n",
       "3    Алексей Зубаков  Тема диплома: \"Автоматическое построение платф...   \n",
       "4  Владислав Калинин  Тема диплома: \"GEO Data Server\" (руководитель ...   \n",
       "\n",
       "                                              images  \n",
       "0  http://mse.itmo.ru/images/tild6339-6361-4437-b...  \n",
       "1  http://mse.itmo.ru/images/tild3235-6231-4137-a...  \n",
       "2  http://mse.itmo.ru/images/tild3539-3430-4535-b...  \n",
       "3  http://mse.itmo.ru/images/tild3034-6132-4564-a...  \n",
       "4  http://mse.itmo.ru/images/tild3033-3831-4533-b...  "
      ]
     },
     "execution_count": 39,
     "metadata": {},
     "output_type": "execute_result"
    }
   ],
   "source": [
    "df.head()"
   ]
  },
  {
   "cell_type": "code",
   "execution_count": 44,
   "metadata": {},
   "outputs": [],
   "source": [
    "path = 'itmo_photos'\n",
    "for idx in range(len(df)):\n",
    "    img_data = requests.get(df.images[idx]).content\n",
    "    with open(os.path.join(path, f'{df.name[idx].split()[1]}.png'), 'wb') as handler:\n",
    "        handler.write(img_data)"
   ]
  },
  {
   "cell_type": "code",
   "execution_count": null,
   "metadata": {},
   "outputs": [],
   "source": []
  }
 ],
 "metadata": {
  "kernelspec": {
   "display_name": "Python 3",
   "language": "python",
   "name": "python3"
  },
  "language_info": {
   "codemirror_mode": {
    "name": "ipython",
    "version": 3
   },
   "file_extension": ".py",
   "mimetype": "text/x-python",
   "name": "python",
   "nbconvert_exporter": "python",
   "pygments_lexer": "ipython3",
   "version": "3.6.5"
  }
 },
 "nbformat": 4,
 "nbformat_minor": 4
}
