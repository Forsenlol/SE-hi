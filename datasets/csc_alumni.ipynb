{
 "cells": [
  {
   "cell_type": "code",
   "execution_count": 1,
   "metadata": {},
   "outputs": [],
   "source": [
    "import requests\n",
    "from bs4 import BeautifulSoup\n",
    "import pandas as pd\n",
    "import os\n",
    "from selenium import webdriver\n",
    "from time import sleep"
   ]
  },
  {
   "cell_type": "code",
   "execution_count": 3,
   "metadata": {},
   "outputs": [],
   "source": [
    "csc_url = 'https://compscicenter.ru/alumni/'"
   ]
  },
  {
   "cell_type": "code",
   "execution_count": null,
   "metadata": {},
   "outputs": [],
   "source": []
  },
  {
   "cell_type": "code",
   "execution_count": 9,
   "metadata": {},
   "outputs": [],
   "source": [
    "driver = webdriver.Chrome(executable_path='/Users/vladiknaska/Documents/se/chromedriver')"
   ]
  },
  {
   "cell_type": "code",
   "execution_count": 18,
   "metadata": {},
   "outputs": [],
   "source": [
    "driver.get(csc_url)"
   ]
  },
  {
   "cell_type": "code",
   "execution_count": 19,
   "metadata": {},
   "outputs": [],
   "source": [
    "#change courses\n",
    "driver.find_element_by_class_name('col-lg-3.mb-4').click()\n",
    "sleep(3)\n",
    "driver.find_element_by_id('react-select-3-option-2').click()"
   ]
  },
  {
   "cell_type": "code",
   "execution_count": 20,
   "metadata": {},
   "outputs": [],
   "source": [
    "#change year\n",
    "def get_page_by_year(year_option):\n",
    "    '''\n",
    "    0 - 2019\n",
    "    1 - 2018\n",
    "    ...\n",
    "    6 - 2013\n",
    "    '''\n",
    "    \n",
    "#     driver.get(csc_url)\n",
    "\n",
    "#     #change courses\n",
    "#     driver.find_element_by_class_name('col-lg-3.mb-4').click()\n",
    "#     sleep(3)\n",
    "#     driver.find_element_by_id('react-select-3-option-2').click()\n",
    "    driver.find_element_by_class_name('react-select__control.css-yk16xz-control').click()\n",
    "    sleep(1)\n",
    "    driver.find_element_by_id(f'react-select-2-option-{year_option}').click()\n",
    "    driver.execute_script(\"window.scrollTo(0, document.body.scrollHeight);\")\n",
    "    \n",
    "    return driver.page_source"
   ]
  },
  {
   "cell_type": "code",
   "execution_count": 47,
   "metadata": {},
   "outputs": [],
   "source": []
  },
  {
   "cell_type": "code",
   "execution_count": 29,
   "metadata": {},
   "outputs": [],
   "source": [
    "urls = []\n",
    "for i in range(7):\n",
    "    try:\n",
    "        html_source = get_page_by_year(i)\n",
    "        soup = BeautifulSoup(html_source, 'html.parser')\n",
    "        base = 'https://compscicenter.ru'\n",
    "        for card in soup.find_all('a', {'class': 'card _user'}):\n",
    "            urls.append(base + card['href'])\n",
    "        sleep(3)\n",
    "    except:\n",
    "        print(i)"
   ]
  },
  {
   "cell_type": "code",
   "execution_count": 33,
   "metadata": {},
   "outputs": [
    {
     "data": {
      "text/plain": [
       "157"
      ]
     },
     "execution_count": 33,
     "metadata": {},
     "output_type": "execute_result"
    }
   ],
   "source": [
    "len(urls)"
   ]
  },
  {
   "cell_type": "code",
   "execution_count": 88,
   "metadata": {},
   "outputs": [],
   "source": [
    "feedback, img, stud_names, course_list = [], [], [], []\n",
    "\n",
    "for url in urls:\n",
    "    soup = BeautifulSoup(requests.get(url).text, 'html.parser')\n",
    "\n",
    "    stud_names.append(soup.find('h1', {'class': 'mb-0'}).text)\n",
    "    \n",
    "    feedback.append(soup.find('p').text)\n",
    "    img.append('https://compscicenter.ru' + soup.find('img')['src'])\n",
    "\n",
    "    course_names = []\n",
    "    marks = []\n",
    "    for div in soup.find_all('div', {'class': 'timeline__content'}):\n",
    "        for ul in div.find_all('ul', {'class': 'ui'}):\n",
    "            for li in ul.find_all('li'):\n",
    "                try:\n",
    "                    course_names.append(li.a.text)\n",
    "                except:\n",
    "                    course_names.append(li.text)\n",
    "                marks.append(li.span.text)\n",
    "\n",
    "    course_list.append({k.strip(): v.strip() for k, v in zip(course_names, marks)})"
   ]
  },
  {
   "cell_type": "code",
   "execution_count": 95,
   "metadata": {},
   "outputs": [],
   "source": [
    "df = pd.DataFrame({'name': stud_names, 'feedback': feedback,\n",
    "                   'img': img, 'courses': course_list, 'url': urls})"
   ]
  },
  {
   "cell_type": "code",
   "execution_count": 102,
   "metadata": {},
   "outputs": [],
   "source": [
    "df.loc[df.feedback == 'Отправил заявление', 'feedback'] = None\n",
    "df.loc[df.feedback == 'Отправила заявление', 'feedback'] = None"
   ]
  },
  {
   "cell_type": "code",
   "execution_count": 109,
   "metadata": {},
   "outputs": [],
   "source": [
    "path = 'csc_photos'\n",
    "for idx in range(len(df)):\n",
    "    img_data = requests.get(df.img[idx]).content\n",
    "    with open(os.path.join(path, f'{df.name[idx].split()[1]}.png'), 'wb') as handler:\n",
    "        handler.write(img_data)"
   ]
  },
  {
   "cell_type": "code",
   "execution_count": 110,
   "metadata": {},
   "outputs": [],
   "source": [
    "df.to_csv('csc_alumni.csv')"
   ]
  },
  {
   "cell_type": "code",
   "execution_count": null,
   "metadata": {},
   "outputs": [],
   "source": []
  }
 ],
 "metadata": {
  "kernelspec": {
   "display_name": "Python 3",
   "language": "python",
   "name": "python3"
  },
  "language_info": {
   "codemirror_mode": {
    "name": "ipython",
    "version": 3
   },
   "file_extension": ".py",
   "mimetype": "text/x-python",
   "name": "python",
   "nbconvert_exporter": "python",
   "pygments_lexer": "ipython3",
   "version": "3.6.5"
  }
 },
 "nbformat": 4,
 "nbformat_minor": 4
}
