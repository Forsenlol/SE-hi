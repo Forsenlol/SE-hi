{
 "cells": [
  {
   "cell_type": "code",
   "execution_count": 44,
   "metadata": {},
   "outputs": [],
   "source": [
    "import requests\n",
    "from bs4 import BeautifulSoup\n",
    "import pandas as pd\n",
    "import os\n",
    "\n",
    "itmo_url = 'http://mse.itmo.ru/alumni'\n",
    "\n",
    "r = requests.get(itmo_url)\n",
    "soup = BeautifulSoup(r.text, 'html.parser')\n",
    "\n",
    "titles = []\n",
    "names = []\n",
    "images = []\n",
    "for title, name, image in zip(soup.find_all('div', {'class': 't214__descr t-text'}),\n",
    "               soup.find_all('div', {'class': 't214__title t-name t-name_sm'}),\n",
    "               soup.find_all('meta', {'itemprop':'image'})):\n",
    "\n",
    "    titles.append(title.text)\n",
    "    names.append(name.text)\n",
    "    images.append('http://mse.itmo.ru/' + image['content'])\n",
    "\n",
    "df = pd.DataFrame({'name': names, 'titles': titles, 'images': images})\n",
    "\n",
    "df.to_csv('itmo_students.csv')\n",
    "\n",
    "path = 'itmo_photos'\n",
    "for idx in range(len(df)):\n",
    "    img_data = requests.get(df.images[idx]).content\n",
    "    with open(os.path.join(path, f'{df.name[idx].split()[1]}.png'), 'wb') as handler:\n",
    "        handler.write(img_data)"
   ]
  },
  {
   "cell_type": "code",
   "execution_count": null,
   "metadata": {},
   "outputs": [],
   "source": []
  }
 ],
 "metadata": {
  "kernelspec": {
   "display_name": "Python 3",
   "language": "python",
   "name": "python3"
  },
  "language_info": {
   "codemirror_mode": {
    "name": "ipython",
    "version": 3
   },
   "file_extension": ".py",
   "mimetype": "text/x-python",
   "name": "python",
   "nbconvert_exporter": "python",
   "pygments_lexer": "ipython3",
   "version": "3.6.5"
  }
 },
 "nbformat": 4,
 "nbformat_minor": 4
}
