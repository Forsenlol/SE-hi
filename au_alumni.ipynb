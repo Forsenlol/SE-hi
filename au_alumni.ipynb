{
 "cells": [
  {
   "cell_type": "code",
   "execution_count": 256,
   "metadata": {},
   "outputs": [],
   "source": [
    "import requests\n",
    "from bs4 import BeautifulSoup\n",
    "import pandas as pd\n",
    "import os"
   ]
  },
  {
   "cell_type": "code",
   "execution_count": 42,
   "metadata": {},
   "outputs": [],
   "source": [
    "base = 'http://mit.spbau.ru'"
   ]
  },
  {
   "cell_type": "code",
   "execution_count": 6,
   "metadata": {},
   "outputs": [],
   "source": [
    "r = requests.get('http://mit.spbau.ru/students/se')\n",
    "html = r.text"
   ]
  },
  {
   "cell_type": "code",
   "execution_count": 8,
   "metadata": {},
   "outputs": [],
   "source": [
    "soup = BeautifulSoup(html, 'html.parser')"
   ]
  },
  {
   "cell_type": "code",
   "execution_count": 90,
   "metadata": {},
   "outputs": [],
   "source": [
    "names = []\n",
    "images = []\n",
    "hrefs = []\n",
    "for div in soup.find_all('div', {'class': 'field-content alumni-userpic'}):\n",
    "    for a in div.find_all('a'):\n",
    "        names.append(a.text)\n",
    "    for img in div.find_all('img'):\n",
    "        images.append(img['src'])\n",
    "        hrefs.append(base + a['href'])"
   ]
  },
  {
   "cell_type": "code",
   "execution_count": 108,
   "metadata": {},
   "outputs": [],
   "source": [
    "df = pd.DataFrame({'name': [name for name in names if 0 < len(name.split()) < 5], \\\n",
    "                   'image': images, 'url': hrefs})"
   ]
  },
  {
   "cell_type": "code",
   "execution_count": 234,
   "metadata": {},
   "outputs": [],
   "source": [
    "fields = ['field field-name-field-program field-type-list-text field-label-above',\n",
    "         'field field-name-field-gradyead field-type-list-integer field-label-inline clearfix',\n",
    "         'field field-name-field-thesistopic field-type-text field-label-above',\n",
    "         'field field-name-field-advisor field-type-text field-label-above', \n",
    "         'field field-name-field-wherenow field-type-text field-label-above',\n",
    "         'field field-name-field-before-au field-type-text field-label-inline clearfix']\n",
    "image_class = 'field field-name-field-alumni-photo field-type-image field-label-hidden'"
   ]
  },
  {
   "cell_type": "code",
   "execution_count": 237,
   "metadata": {},
   "outputs": [
    {
     "name": "stdout",
     "output_type": "stream",
     "text": [
      "http://mit.spbau.ruhttp://bioinf.spbau.ru/sites/default/files/AlexeyGurevich_thesis_fulltext.pdf\n",
      "http://mit.spbau.ruhttp://bioinf.spbau.ru/sites/default/files/AndreyPrjibelski_thesis_fulltext.pdf\n"
     ]
    }
   ],
   "source": [
    "blocks = []\n",
    "images = []\n",
    "for url in df.url:\n",
    "    try:\n",
    "        block = []\n",
    "        r = requests.get(url)\n",
    "        html = r.text\n",
    "        soup = BeautifulSoup(html, 'html.parser')\n",
    "        for field in fields:\n",
    "            try:\n",
    "                block.append(soup.find('div', {'class': field}).text)\n",
    "            except:\n",
    "                continue\n",
    "        blocks.append(block)\n",
    "        images.append(soup.find('div', {'class': image_class}).find('img')['src'])\n",
    "    except:\n",
    "        blocks.append([])\n",
    "        images.append('None')\n",
    "        print(url)"
   ]
  },
  {
   "cell_type": "code",
   "execution_count": 239,
   "metadata": {},
   "outputs": [],
   "source": [
    "def get_info(block):\n",
    "    dicts = [{k: v} for k, v in [line.split(':') for line in block]]\n",
    "    info = dict(pair for d in dicts for pair in d.items())\n",
    "    return info"
   ]
  },
  {
   "cell_type": "code",
   "execution_count": 240,
   "metadata": {},
   "outputs": [],
   "source": [
    "infos = []\n",
    "for block in blocks:\n",
    "    infos.append(get_info(block))\n",
    "\n",
    "df['info'] = infos"
   ]
  },
  {
   "cell_type": "code",
   "execution_count": 242,
   "metadata": {},
   "outputs": [],
   "source": [
    "df['big_images'] = images"
   ]
  },
  {
   "cell_type": "code",
   "execution_count": null,
   "metadata": {},
   "outputs": [],
   "source": []
  },
  {
   "cell_type": "code",
   "execution_count": 261,
   "metadata": {},
   "outputs": [
    {
     "data": {
      "text/html": [
       "<div>\n",
       "<style scoped>\n",
       "    .dataframe tbody tr th:only-of-type {\n",
       "        vertical-align: middle;\n",
       "    }\n",
       "\n",
       "    .dataframe tbody tr th {\n",
       "        vertical-align: top;\n",
       "    }\n",
       "\n",
       "    .dataframe thead th {\n",
       "        text-align: right;\n",
       "    }\n",
       "</style>\n",
       "<table border=\"1\" class=\"dataframe\">\n",
       "  <thead>\n",
       "    <tr style=\"text-align: right;\">\n",
       "      <th></th>\n",
       "      <th>name</th>\n",
       "      <th>image</th>\n",
       "      <th>url</th>\n",
       "      <th>info</th>\n",
       "      <th>big_images</th>\n",
       "    </tr>\n",
       "  </thead>\n",
       "  <tbody>\n",
       "    <tr>\n",
       "      <th>0</th>\n",
       "      <td>Абрамов Иван Александрович</td>\n",
       "      <td>http://mit.spbau.ru/files/alumni/%D0%90%D0%B1%...</td>\n",
       "      <td>http://mit.spbau.ru/node/906</td>\n",
       "      <td>{'Программа обучения': ' SE', 'Год окончания':...</td>\n",
       "      <td>http://mit.spbau.ru/files/alumni/%D0%90%D0%B1%...</td>\n",
       "    </tr>\n",
       "    <tr>\n",
       "      <th>1</th>\n",
       "      <td>Акимов Евгений Владимирович</td>\n",
       "      <td>http://mit.spbau.ru/files/alumni/%D0%90%D0%BA%...</td>\n",
       "      <td>http://mit.spbau.ru/node/911</td>\n",
       "      <td>{'Программа обучения': ' SE', 'Год окончания':...</td>\n",
       "      <td>http://mit.spbau.ru/files/alumni/%D0%90%D0%BA%...</td>\n",
       "    </tr>\n",
       "    <tr>\n",
       "      <th>2</th>\n",
       "      <td>Бибаев Виталий Игоревич</td>\n",
       "      <td>http://mit.spbau.ru/files/alumni/bibaevsm.jpg</td>\n",
       "      <td>http://mit.spbau.ru/node/914</td>\n",
       "      <td>{'Программа обучения': ' SE', 'Год окончания':...</td>\n",
       "      <td>http://mit.spbau.ru/files/alumni/bibaev.jpg</td>\n",
       "    </tr>\n",
       "    <tr>\n",
       "      <th>3</th>\n",
       "      <td>Васильев Роман Алексеевич</td>\n",
       "      <td>http://mit.spbau.ru/files/alumni/roman.vasilie...</td>\n",
       "      <td>http://mit.spbau.ru/node/907</td>\n",
       "      <td>{'Программа обучения': ' SE', 'Год окончания':...</td>\n",
       "      <td>http://mit.spbau.ru/files/alumni/roman.vasilie...</td>\n",
       "    </tr>\n",
       "    <tr>\n",
       "      <th>4</th>\n",
       "      <td>Гарифуллин Шамиль Раифович</td>\n",
       "      <td>http://mit.spbau.ru/files/alumni/%D0%93%D0%B0%...</td>\n",
       "      <td>http://mit.spbau.ru/node/901</td>\n",
       "      <td>{'Программа обучения': ' SE', 'Год окончания':...</td>\n",
       "      <td>http://mit.spbau.ru/files/alumni/%D0%93%D0%B0%...</td>\n",
       "    </tr>\n",
       "  </tbody>\n",
       "</table>\n",
       "</div>"
      ],
      "text/plain": [
       "                          name  \\\n",
       "0   Абрамов Иван Александрович   \n",
       "1  Акимов Евгений Владимирович   \n",
       "2      Бибаев Виталий Игоревич   \n",
       "3    Васильев Роман Алексеевич   \n",
       "4   Гарифуллин Шамиль Раифович   \n",
       "\n",
       "                                               image  \\\n",
       "0  http://mit.spbau.ru/files/alumni/%D0%90%D0%B1%...   \n",
       "1  http://mit.spbau.ru/files/alumni/%D0%90%D0%BA%...   \n",
       "2      http://mit.spbau.ru/files/alumni/bibaevsm.jpg   \n",
       "3  http://mit.spbau.ru/files/alumni/roman.vasilie...   \n",
       "4  http://mit.spbau.ru/files/alumni/%D0%93%D0%B0%...   \n",
       "\n",
       "                            url  \\\n",
       "0  http://mit.spbau.ru/node/906   \n",
       "1  http://mit.spbau.ru/node/911   \n",
       "2  http://mit.spbau.ru/node/914   \n",
       "3  http://mit.spbau.ru/node/907   \n",
       "4  http://mit.spbau.ru/node/901   \n",
       "\n",
       "                                                info  \\\n",
       "0  {'Программа обучения': ' SE', 'Год окончания':...   \n",
       "1  {'Программа обучения': ' SE', 'Год окончания':...   \n",
       "2  {'Программа обучения': ' SE', 'Год окончания':...   \n",
       "3  {'Программа обучения': ' SE', 'Год окончания':...   \n",
       "4  {'Программа обучения': ' SE', 'Год окончания':...   \n",
       "\n",
       "                                          big_images  \n",
       "0  http://mit.spbau.ru/files/alumni/%D0%90%D0%B1%...  \n",
       "1  http://mit.spbau.ru/files/alumni/%D0%90%D0%BA%...  \n",
       "2        http://mit.spbau.ru/files/alumni/bibaev.jpg  \n",
       "3  http://mit.spbau.ru/files/alumni/roman.vasilie...  \n",
       "4  http://mit.spbau.ru/files/alumni/%D0%93%D0%B0%...  "
      ]
     },
     "execution_count": 261,
     "metadata": {},
     "output_type": "execute_result"
    }
   ],
   "source": [
    "df.head()"
   ]
  },
  {
   "cell_type": "code",
   "execution_count": 266,
   "metadata": {},
   "outputs": [],
   "source": [
    "path = 'au_photos'\n",
    "for idx in range(len(df)):\n",
    "    if df.big_images[idx] != 'None':\n",
    "        img_data = requests.get(df.big_images[idx]).content\n",
    "    else:\n",
    "        img_data = requests.get(df.image[idx]).content\n",
    "    with open(os.path.join(path, f'{df.name[idx].split()[0]}.png'), 'wb') as handler:\n",
    "        handler.write(img_data)"
   ]
  },
  {
   "cell_type": "code",
   "execution_count": null,
   "metadata": {},
   "outputs": [],
   "source": []
  }
 ],
 "metadata": {
  "kernelspec": {
   "display_name": "Python 3",
   "language": "python",
   "name": "python3"
  },
  "language_info": {
   "codemirror_mode": {
    "name": "ipython",
    "version": 3
   },
   "file_extension": ".py",
   "mimetype": "text/x-python",
   "name": "python",
   "nbconvert_exporter": "python",
   "pygments_lexer": "ipython3",
   "version": "3.6.5"
  }
 },
 "nbformat": 4,
 "nbformat_minor": 4
}
